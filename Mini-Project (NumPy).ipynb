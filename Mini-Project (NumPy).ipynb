{
 "cells": [
  {
   "cell_type": "code",
   "execution_count": 1,
   "id": "9d23f370",
   "metadata": {},
   "outputs": [],
   "source": [
    "#Nomalization(feature scaling):the concept of using large amounts of data to train our model\n",
    "#it's main aim is to ensure that all data is on a similar scale\n",
    "#Another feature of scaling is known as mean normalization"
   ]
  },
  {
   "cell_type": "code",
   "execution_count": 2,
   "id": "35a649fa",
   "metadata": {},
   "outputs": [],
   "source": [
    "import numpy as np"
   ]
  },
  {
   "cell_type": "code",
   "execution_count": 21,
   "id": "4a2663db",
   "metadata": {},
   "outputs": [
    {
     "name": "stdout",
     "output_type": "stream",
     "text": [
      "(1000, 20)\n"
     ]
    }
   ],
   "source": [
    "X = np.random.randint(0, 5001, 20000).reshape(1000, 20)\n",
    "print(X.shape)"
   ]
  },
  {
   "cell_type": "code",
   "execution_count": 22,
   "id": "944b969a",
   "metadata": {},
   "outputs": [],
   "source": [
    "#mean normalization is performed by subtracting from each column of $x$ the average\n",
    "#of its values, and then by dividing the standard deviation of its values\n",
    "ave_cols = X.mean(axis=0)\n",
    "std_cols = X.std(axis=0)"
   ]
  },
  {
   "cell_type": "code",
   "execution_count": 23,
   "id": "46245f5a",
   "metadata": {},
   "outputs": [
    {
     "name": "stdout",
     "output_type": "stream",
     "text": [
      "(20,)\n",
      "(20,)\n"
     ]
    }
   ],
   "source": [
    "print(ave_cols.shape)#prints the shape of the average columns\n",
    "print(std_cols.shape)#prints the standard deviation of the average columns"
   ]
  },
  {
   "cell_type": "code",
   "execution_count": 26,
   "id": "d570e45f",
   "metadata": {},
   "outputs": [
    {
     "name": "stdout",
     "output_type": "stream",
     "text": [
      "0.49808304\n"
     ]
    }
   ],
   "source": [
    "X_norm = ((X - X.min()) / (X.max() - X.min()))#formula to compute the mean normalized value of X\n",
    "print(X_norm.mean())#to calculate the mean of the nor,alized value"
   ]
  },
  {
   "cell_type": "code",
   "execution_count": 30,
   "id": "8982eaa3",
   "metadata": {},
   "outputs": [
    {
     "name": "stdout",
     "output_type": "stream",
     "text": [
      "0.0\n",
      "1.0\n"
     ]
    }
   ],
   "source": [
    "print(X_norm.min().mean())#prints the average of the minimum value in X_norm\n",
    "print(X_norm.max())#prints the average of the maximum value in X_norm\n"
   ]
  },
  {
   "cell_type": "code",
   "execution_count": 31,
   "id": "87a6a33e",
   "metadata": {},
   "outputs": [
    {
     "name": "stdout",
     "output_type": "stream",
     "text": [
      "(600, 20)\n",
      "(200, 20)\n",
      "(200, 20)\n"
     ]
    }
   ],
   "source": [
    "#Data Separation\n",
    "#after data normalization it's customary to split our data set into 3 sets in ML\n",
    "    #Training set - 60% data\n",
    "    #Cross Validation Set - 20% data\n",
    "    #Test Set -20% data\n",
    "    \n",
    "#create a rank 1 ndarray that contains a random permutation of the row indicies \n",
    "row_indices = np.random.permutation(X_norm.shape[0])\n",
    "#lets get count 60% rows\n",
    "sixty = int(len(X_norm) * 0.6)\n",
    "#lets get count of 80% rows\n",
    "eighty = int(len(X_norm) * 0.8)\n",
    "#Creating a training set\n",
    "X_train = X_norm[row_indices[:sixty], :]\n",
    "#Create a cross validation set\n",
    "X_crossVal = X_norm[row_indices[sixty: eighty], :]\n",
    "#Create a test validation set\n",
    "X_test = X_norm[row_indices[eighty: ], :]\n",
    "#print the shape of the 3 sets\n",
    "print(X_train.shape)\n",
    "print(X_crossVal.shape)\n",
    "print(X_test.shape)"
   ]
  },
  {
   "cell_type": "code",
   "execution_count": null,
   "id": "8d8cc718",
   "metadata": {},
   "outputs": [],
   "source": []
  }
 ],
 "metadata": {
  "kernelspec": {
   "display_name": "Python 3 (ipykernel)",
   "language": "python",
   "name": "python3"
  },
  "language_info": {
   "codemirror_mode": {
    "name": "ipython",
    "version": 3
   },
   "file_extension": ".py",
   "mimetype": "text/x-python",
   "name": "python",
   "nbconvert_exporter": "python",
   "pygments_lexer": "ipython3",
   "version": "3.9.15"
  }
 },
 "nbformat": 4,
 "nbformat_minor": 5
}
